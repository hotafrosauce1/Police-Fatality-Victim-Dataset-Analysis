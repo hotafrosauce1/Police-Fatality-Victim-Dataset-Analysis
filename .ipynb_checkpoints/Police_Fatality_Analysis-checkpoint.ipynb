{
 "cells": [
  {
   "cell_type": "code",
   "execution_count": 1,
   "metadata": {},
   "outputs": [],
   "source": [
    "import numpy as np\n",
    "import pandas as pd\n",
    "import matplotlib.pyplot as plt\n",
    "import seaborn as sns"
   ]
  },
  {
   "cell_type": "code",
   "execution_count": 2,
   "metadata": {},
   "outputs": [
    {
     "data": {
      "text/html": [
       "<div>\n",
       "<style scoped>\n",
       "    .dataframe tbody tr th:only-of-type {\n",
       "        vertical-align: middle;\n",
       "    }\n",
       "\n",
       "    .dataframe tbody tr th {\n",
       "        vertical-align: top;\n",
       "    }\n",
       "\n",
       "    .dataframe thead th {\n",
       "        text-align: right;\n",
       "    }\n",
       "</style>\n",
       "<table border=\"1\" class=\"dataframe\">\n",
       "  <thead>\n",
       "    <tr style=\"text-align: right;\">\n",
       "      <th></th>\n",
       "      <th>Name</th>\n",
       "      <th>Age</th>\n",
       "      <th>Gender</th>\n",
       "      <th>Race</th>\n",
       "      <th>Date</th>\n",
       "      <th>City</th>\n",
       "      <th>State</th>\n",
       "      <th>Manner_of_death</th>\n",
       "      <th>Armed</th>\n",
       "      <th>Mental_illness</th>\n",
       "      <th>Flee</th>\n",
       "    </tr>\n",
       "  </thead>\n",
       "  <tbody>\n",
       "    <tr>\n",
       "      <td>0</td>\n",
       "      <td>Karen O. Chin</td>\n",
       "      <td>44.0</td>\n",
       "      <td>Female</td>\n",
       "      <td>Asian</td>\n",
       "      <td>5/4/2000</td>\n",
       "      <td>Alameda</td>\n",
       "      <td>CA</td>\n",
       "      <td>Shot</td>\n",
       "      <td>NaN</td>\n",
       "      <td>False</td>\n",
       "      <td>False</td>\n",
       "    </tr>\n",
       "    <tr>\n",
       "      <td>1</td>\n",
       "      <td>Chyraphone Komvongsa</td>\n",
       "      <td>26.0</td>\n",
       "      <td>Male</td>\n",
       "      <td>Asian</td>\n",
       "      <td>6/2/2000</td>\n",
       "      <td>Fresno</td>\n",
       "      <td>CA</td>\n",
       "      <td>Shot</td>\n",
       "      <td>NaN</td>\n",
       "      <td>False</td>\n",
       "      <td>False</td>\n",
       "    </tr>\n",
       "    <tr>\n",
       "      <td>2</td>\n",
       "      <td>Ming Chinh Ly</td>\n",
       "      <td>36.0</td>\n",
       "      <td>Male</td>\n",
       "      <td>Asian</td>\n",
       "      <td>8/13/2000</td>\n",
       "      <td>Rosemead</td>\n",
       "      <td>CA</td>\n",
       "      <td>Shot</td>\n",
       "      <td>Gun</td>\n",
       "      <td>False</td>\n",
       "      <td>False</td>\n",
       "    </tr>\n",
       "    <tr>\n",
       "      <td>3</td>\n",
       "      <td>Kinh Quoc Dao</td>\n",
       "      <td>29.0</td>\n",
       "      <td>Male</td>\n",
       "      <td>Asian</td>\n",
       "      <td>2/9/2001</td>\n",
       "      <td>Valley Glen</td>\n",
       "      <td>CA</td>\n",
       "      <td>Shot</td>\n",
       "      <td>Gun</td>\n",
       "      <td>False</td>\n",
       "      <td>False</td>\n",
       "    </tr>\n",
       "    <tr>\n",
       "      <td>4</td>\n",
       "      <td>Vanpaseuth Phaisouphanh</td>\n",
       "      <td>25.0</td>\n",
       "      <td>Male</td>\n",
       "      <td>Asian</td>\n",
       "      <td>6/10/2001</td>\n",
       "      <td>Riverside</td>\n",
       "      <td>CA</td>\n",
       "      <td>Shot</td>\n",
       "      <td>Knife</td>\n",
       "      <td>False</td>\n",
       "      <td>False</td>\n",
       "    </tr>\n",
       "  </tbody>\n",
       "</table>\n",
       "</div>"
      ],
      "text/plain": [
       "                      Name   Age  Gender   Race       Date         City State  \\\n",
       "0            Karen O. Chin  44.0  Female  Asian   5/4/2000      Alameda    CA   \n",
       "1     Chyraphone Komvongsa  26.0    Male  Asian   6/2/2000       Fresno    CA   \n",
       "2            Ming Chinh Ly  36.0    Male  Asian  8/13/2000     Rosemead    CA   \n",
       "3            Kinh Quoc Dao  29.0    Male  Asian   2/9/2001  Valley Glen    CA   \n",
       "4  Vanpaseuth Phaisouphanh  25.0    Male  Asian  6/10/2001    Riverside    CA   \n",
       "\n",
       "  Manner_of_death  Armed  Mental_illness   Flee  \n",
       "0            Shot    NaN           False  False  \n",
       "1            Shot    NaN           False  False  \n",
       "2            Shot    Gun           False  False  \n",
       "3            Shot    Gun           False  False  \n",
       "4            Shot  Knife           False  False  "
      ]
     },
     "execution_count": 2,
     "metadata": {},
     "output_type": "execute_result"
    }
   ],
   "source": [
    "# Load in data\n",
    "data_1 = pd.read_csv('Police Fatalities.csv', encoding = 'latin-1')\n",
    "data_1 = data_1.drop(['UID'], axis = 1)\n",
    "data_1.head()"
   ]
  },
  {
   "cell_type": "code",
   "execution_count": 3,
   "metadata": {},
   "outputs": [
    {
     "data": {
      "text/plain": [
       "Name                object\n",
       "Age                float64\n",
       "Gender              object\n",
       "Race                object\n",
       "Date                object\n",
       "City                object\n",
       "State               object\n",
       "Manner_of_death     object\n",
       "Armed               object\n",
       "Mental_illness        bool\n",
       "Flee                  bool\n",
       "dtype: object"
      ]
     },
     "execution_count": 3,
     "metadata": {},
     "output_type": "execute_result"
    }
   ],
   "source": [
    "data_1.dtypes"
   ]
  },
  {
   "cell_type": "code",
   "execution_count": 4,
   "metadata": {
    "scrolled": false
   },
   "outputs": [
    {
     "name": "stdout",
     "output_type": "stream",
     "text": [
      "Before:\n",
      "\n",
      "100.0% of the Name column is not null\n",
      "98.13% of the Age column is not null\n",
      "99.94% of the Gender column is not null\n",
      "68.26% of the Race column is not null\n",
      "100.0% of the Date column is not null\n",
      "99.97% of the City column is not null\n",
      "100.0% of the State column is not null\n",
      "100.0% of the Manner_of_death column is not null\n",
      "54.55% of the Armed column is not null\n",
      "100.0% of the Mental_illness column is not null\n",
      "100.0% of the Flee column is not null\n",
      "\n",
      "After:\n",
      "\n",
      "100.0% of the Name column is not null\n",
      "100.0% of the Age column is not null\n",
      "100.0% of the Gender column is not null\n",
      "100.0% of the Race column is not null\n",
      "100.0% of the Date column is not null\n",
      "100.0% of the City column is not null\n",
      "100.0% of the State column is not null\n",
      "100.0% of the Manner_of_death column is not null\n",
      "100.0% of the Armed column is not null\n",
      "100.0% of the Mental_illness column is not null\n",
      "100.0% of the Flee column is not null\n",
      "100.0% of the Name_missing column is not null\n",
      "100.0% of the Age_missing column is not null\n",
      "100.0% of the Gender_missing column is not null\n",
      "100.0% of the Race_missing column is not null\n",
      "100.0% of the Date_missing column is not null\n",
      "100.0% of the City_missing column is not null\n",
      "100.0% of the State_missing column is not null\n",
      "100.0% of the Manner_of_death_missing column is not null\n",
      "100.0% of the Armed_missing column is not null\n",
      "100.0% of the Mental_illness_missing column is not null\n",
      "100.0% of the Flee_missing column is not null\n"
     ]
    }
   ],
   "source": [
    "from scipy.stats import mode\n",
    "\n",
    "# Percentage null for each column and add columns specifying whether\n",
    "# a column value is null and imputing null values\n",
    "print('Before:')\n",
    "print()\n",
    "for col in data_1.columns:\n",
    "    pct_null_col = round(data_1[col].isna().mean() * 100, 2)\n",
    "    print('{}% of the {} column is not null'.format(100 - pct_null_col, col))\n",
    "    \n",
    "    is_col_val_missing = data_1[col].isna()\n",
    "    data_1['{}_missing'.format(col)] = is_col_val_missing\n",
    "    \n",
    "    if (pct_null_col != 100) and (data_1[col].dtype == np.dtype('float64')):\n",
    "        col_mean = data_1[col].mean()\n",
    "        data_1[col] = data_1[col].fillna(col_mean)\n",
    "        \n",
    "    if (pct_null_col != 100) and (data_1[col].dtype == np.dtype('O')):\n",
    "        col_mode = mode(data_1[col].values).mode[0]\n",
    "        data_1[col] = data_1[col].fillna(col_mode)\n",
    "        \n",
    "print()\n",
    "print('After:')\n",
    "print()\n",
    "\n",
    "for col in data_1.columns:\n",
    "    pct_null_col = round(data_1[col].isna().mean() * 100, 2)\n",
    "    print('{}% of the {} column is not null'.format(100 - pct_null_col, col))\n",
    "    "
   ]
  },
  {
   "cell_type": "code",
   "execution_count": 5,
   "metadata": {},
   "outputs": [
    {
     "data": {
      "text/plain": [
       "Index(['Name', 'Age', 'Gender', 'Race', 'Date', 'City', 'State',\n",
       "       'Manner_of_death', 'Armed', 'Mental_illness', 'Flee', 'Name_missing',\n",
       "       'Age_missing', 'Gender_missing', 'Race_missing', 'Date_missing',\n",
       "       'City_missing', 'State_missing', 'Manner_of_death_missing',\n",
       "       'Armed_missing', 'Mental_illness_missing', 'Flee_missing'],\n",
       "      dtype='object')"
      ]
     },
     "execution_count": 5,
     "metadata": {},
     "output_type": "execute_result"
    }
   ],
   "source": [
    "data_1.columns"
   ]
  },
  {
   "cell_type": "code",
   "execution_count": 6,
   "metadata": {
    "scrolled": true
   },
   "outputs": [
    {
     "data": {
      "text/html": [
       "<div>\n",
       "<style scoped>\n",
       "    .dataframe tbody tr th:only-of-type {\n",
       "        vertical-align: middle;\n",
       "    }\n",
       "\n",
       "    .dataframe tbody tr th {\n",
       "        vertical-align: top;\n",
       "    }\n",
       "\n",
       "    .dataframe thead th {\n",
       "        text-align: right;\n",
       "    }\n",
       "</style>\n",
       "<table border=\"1\" class=\"dataframe\">\n",
       "  <thead>\n",
       "    <tr style=\"text-align: right;\">\n",
       "      <th></th>\n",
       "      <th>Name</th>\n",
       "      <th>Age</th>\n",
       "      <th>Gender</th>\n",
       "      <th>Race</th>\n",
       "      <th>Date</th>\n",
       "      <th>City</th>\n",
       "      <th>State</th>\n",
       "      <th>Manner_of_death</th>\n",
       "      <th>Armed</th>\n",
       "      <th>Mental_illness</th>\n",
       "      <th>...</th>\n",
       "      <th>Race_missing</th>\n",
       "      <th>Date_missing</th>\n",
       "      <th>City_missing</th>\n",
       "      <th>State_missing</th>\n",
       "      <th>Manner_of_death_missing</th>\n",
       "      <th>Armed_missing</th>\n",
       "      <th>Mental_illness_missing</th>\n",
       "      <th>Flee_missing</th>\n",
       "      <th>Month</th>\n",
       "      <th>First_name</th>\n",
       "    </tr>\n",
       "  </thead>\n",
       "  <tbody>\n",
       "    <tr>\n",
       "      <td>0</td>\n",
       "      <td>Karen O. Chin</td>\n",
       "      <td>44.0</td>\n",
       "      <td>Female</td>\n",
       "      <td>Asian</td>\n",
       "      <td>5/4/2000</td>\n",
       "      <td>alameda</td>\n",
       "      <td>CA</td>\n",
       "      <td>Shot</td>\n",
       "      <td>Gun</td>\n",
       "      <td>False</td>\n",
       "      <td>...</td>\n",
       "      <td>False</td>\n",
       "      <td>False</td>\n",
       "      <td>False</td>\n",
       "      <td>False</td>\n",
       "      <td>False</td>\n",
       "      <td>True</td>\n",
       "      <td>False</td>\n",
       "      <td>False</td>\n",
       "      <td>May</td>\n",
       "      <td>karen</td>\n",
       "    </tr>\n",
       "    <tr>\n",
       "      <td>1</td>\n",
       "      <td>Chyraphone Komvongsa</td>\n",
       "      <td>26.0</td>\n",
       "      <td>Male</td>\n",
       "      <td>Asian</td>\n",
       "      <td>6/2/2000</td>\n",
       "      <td>fresno</td>\n",
       "      <td>CA</td>\n",
       "      <td>Shot</td>\n",
       "      <td>Gun</td>\n",
       "      <td>False</td>\n",
       "      <td>...</td>\n",
       "      <td>False</td>\n",
       "      <td>False</td>\n",
       "      <td>False</td>\n",
       "      <td>False</td>\n",
       "      <td>False</td>\n",
       "      <td>True</td>\n",
       "      <td>False</td>\n",
       "      <td>False</td>\n",
       "      <td>June</td>\n",
       "      <td>chyraphone</td>\n",
       "    </tr>\n",
       "    <tr>\n",
       "      <td>2</td>\n",
       "      <td>Ming Chinh Ly</td>\n",
       "      <td>36.0</td>\n",
       "      <td>Male</td>\n",
       "      <td>Asian</td>\n",
       "      <td>8/13/2000</td>\n",
       "      <td>rosemead</td>\n",
       "      <td>CA</td>\n",
       "      <td>Shot</td>\n",
       "      <td>Gun</td>\n",
       "      <td>False</td>\n",
       "      <td>...</td>\n",
       "      <td>False</td>\n",
       "      <td>False</td>\n",
       "      <td>False</td>\n",
       "      <td>False</td>\n",
       "      <td>False</td>\n",
       "      <td>False</td>\n",
       "      <td>False</td>\n",
       "      <td>False</td>\n",
       "      <td>August</td>\n",
       "      <td>ming</td>\n",
       "    </tr>\n",
       "    <tr>\n",
       "      <td>3</td>\n",
       "      <td>Kinh Quoc Dao</td>\n",
       "      <td>29.0</td>\n",
       "      <td>Male</td>\n",
       "      <td>Asian</td>\n",
       "      <td>2/9/2001</td>\n",
       "      <td>valley glen</td>\n",
       "      <td>CA</td>\n",
       "      <td>Shot</td>\n",
       "      <td>Gun</td>\n",
       "      <td>False</td>\n",
       "      <td>...</td>\n",
       "      <td>False</td>\n",
       "      <td>False</td>\n",
       "      <td>False</td>\n",
       "      <td>False</td>\n",
       "      <td>False</td>\n",
       "      <td>False</td>\n",
       "      <td>False</td>\n",
       "      <td>False</td>\n",
       "      <td>February</td>\n",
       "      <td>kinh</td>\n",
       "    </tr>\n",
       "    <tr>\n",
       "      <td>4</td>\n",
       "      <td>Vanpaseuth Phaisouphanh</td>\n",
       "      <td>25.0</td>\n",
       "      <td>Male</td>\n",
       "      <td>Asian</td>\n",
       "      <td>6/10/2001</td>\n",
       "      <td>riverside</td>\n",
       "      <td>CA</td>\n",
       "      <td>Shot</td>\n",
       "      <td>Knife</td>\n",
       "      <td>False</td>\n",
       "      <td>...</td>\n",
       "      <td>False</td>\n",
       "      <td>False</td>\n",
       "      <td>False</td>\n",
       "      <td>False</td>\n",
       "      <td>False</td>\n",
       "      <td>False</td>\n",
       "      <td>False</td>\n",
       "      <td>False</td>\n",
       "      <td>June</td>\n",
       "      <td>vanpaseuth</td>\n",
       "    </tr>\n",
       "  </tbody>\n",
       "</table>\n",
       "<p>5 rows × 24 columns</p>\n",
       "</div>"
      ],
      "text/plain": [
       "                      Name   Age  Gender   Race       Date         City State  \\\n",
       "0            Karen O. Chin  44.0  Female  Asian   5/4/2000      alameda    CA   \n",
       "1     Chyraphone Komvongsa  26.0    Male  Asian   6/2/2000       fresno    CA   \n",
       "2            Ming Chinh Ly  36.0    Male  Asian  8/13/2000     rosemead    CA   \n",
       "3            Kinh Quoc Dao  29.0    Male  Asian   2/9/2001  valley glen    CA   \n",
       "4  Vanpaseuth Phaisouphanh  25.0    Male  Asian  6/10/2001    riverside    CA   \n",
       "\n",
       "  Manner_of_death  Armed  Mental_illness  ...  Race_missing  Date_missing  \\\n",
       "0            Shot    Gun           False  ...         False         False   \n",
       "1            Shot    Gun           False  ...         False         False   \n",
       "2            Shot    Gun           False  ...         False         False   \n",
       "3            Shot    Gun           False  ...         False         False   \n",
       "4            Shot  Knife           False  ...         False         False   \n",
       "\n",
       "   City_missing  State_missing  Manner_of_death_missing  Armed_missing  \\\n",
       "0         False          False                    False           True   \n",
       "1         False          False                    False           True   \n",
       "2         False          False                    False          False   \n",
       "3         False          False                    False          False   \n",
       "4         False          False                    False          False   \n",
       "\n",
       "   Mental_illness_missing  Flee_missing     Month  First_name  \n",
       "0                   False         False       May       karen  \n",
       "1                   False         False      June  chyraphone  \n",
       "2                   False         False    August        ming  \n",
       "3                   False         False  February        kinh  \n",
       "4                   False         False      June  vanpaseuth  \n",
       "\n",
       "[5 rows x 24 columns]"
      ]
     },
     "execution_count": 6,
     "metadata": {},
     "output_type": "execute_result"
    }
   ],
   "source": [
    "month_map = {1:'January', 2:'February', 3:'March', 4:'April',\n",
    "             5:'May', 6:'June', 7:'July', 8:'August', 9:'September',\n",
    "             10:'October', 11:'November', 12:'December'}\n",
    "\n",
    "data_1['Month'] = (data_1['Date']\n",
    "                   .str\n",
    "                   .split('/', expand = True)[0]\n",
    "                   .astype(int)\n",
    "                  )\n",
    "data_1['Month'] = data_1['Month'].map(month_map)\n",
    "\n",
    "data_1['City'] = (data_1['City']\n",
    "                  .str\n",
    "                  .strip()\n",
    "                  .str\n",
    "                  .lower()\n",
    "                 )\n",
    "\n",
    "data_1['First_name'] = (data_1['Name']\n",
    "                        .str\n",
    "                        .strip()\n",
    "                        .str\n",
    "                        .lower()\n",
    "                        .str\n",
    "                        .split(' ', expand = True)[0]\n",
    "                       )\n",
    "\n",
    "data_1.head()"
   ]
  },
  {
   "cell_type": "markdown",
   "metadata": {},
   "source": [
    "### Now that the data is sufficienty cleaned, Here's a list of questions I might want to address using this dataset:\n",
    "\n",
    " * Are male victims of fatal police force younger or older than female victims of fatal police force on average ? Or is there no significant difference in the age distributions between males and females ? (Done)\n",
    "  \n",
    " * Since ~32% of the observations in the dataset do not include the victim's race, is there a way to predict victim race from other variables of interest ? (Done)\n",
    " \n",
    " * Are unarmed blacks killed more than other races ?\n",
    " \n",
    " * Are there more missing values for black observations than white observations ? (Done)\n"
   ]
  },
  {
   "cell_type": "code",
   "execution_count": 11,
   "metadata": {},
   "outputs": [
    {
     "data": {
      "text/plain": [
       "White       195\n",
       "Black       132\n",
       "Hispanic     67\n",
       "Native        4\n",
       "Other         1\n",
       "Asian         1\n",
       "Name: Race, dtype: int64"
      ]
     },
     "execution_count": 11,
     "metadata": {},
     "output_type": "execute_result"
    }
   ],
   "source": [
    "data_1[data_1['Armed'] == 'Unarmed']['Race'].value_counts()"
   ]
  },
  {
   "cell_type": "code",
   "execution_count": 7,
   "metadata": {},
   "outputs": [
    {
     "data": {
      "text/plain": [
       "<matplotlib.legend.Legend at 0x7fa7240d0210>"
      ]
     },
     "execution_count": 7,
     "metadata": {},
     "output_type": "execute_result"
    },
    {
     "data": {
      "image/png": "[encoded data removed]",
      "text/plain": [
       "<Figure size 1152x504 with 2 Axes>"
      ]
     },
     "metadata": {
      "needs_background": "light"
     },
     "output_type": "display_data"
    }
   ],
   "source": [
    "fig, ax = plt.subplots(nrows = 1, ncols = 2, figsize = (16,7))\n",
    "\n",
    "plt.subplot(121)\n",
    "plt.xlabel('Age')\n",
    "plt.ylabel('Percent per unit')\n",
    "plt.title('Distribution of Ages for Police Fatalities')\n",
    "plt.hist(data_1['Age'], density = True, ec = 'white')\n",
    "\n",
    "male_fatalities = data_1[data_1['Gender'] == 'Male']\n",
    "female_fatalities = data_1[data_1['Gender'] == 'Female']\n",
    "\n",
    "ax_2 = plt.subplot(122)\n",
    "plt.xlabel('Age')\n",
    "plt.ylabel('Percent per unit')\n",
    "plt.title('Distribution of Police Fatality Ages for Males v. Females')\n",
    "plt.hist(male_fatalities['Age'], density = True, ec = 'w', label = 'Male Fatality Age Dist.')\n",
    "plt.hist(female_fatalities['Age'], density = True, ec = 'w', label = 'Female Fatality Age Dist.', alpha = 0.7)\n",
    "plt.legend()"
   ]
  },
  {
   "cell_type": "code",
   "execution_count": 8,
   "metadata": {},
   "outputs": [
    {
     "name": "stdout",
     "output_type": "stream",
     "text": [
      "Avg police fatality age: 35.26953826072741\n",
      "Avg male police fatality age: 35.14610664450603\n",
      "Avg female police fatality age: 37.66125235122942\n"
     ]
    }
   ],
   "source": [
    "avg_fatality_age = data_1['Age'].mean()\n",
    "avg_fatality_age_male = male_fatalities['Age'].mean()\n",
    "avg_fatality_age_female = female_fatalities['Age'].mean()\n",
    "\n",
    "print('Avg police fatality age: {}'.format(avg_fatality_age))\n",
    "print('Avg male police fatality age: {}'.format(avg_fatality_age_male))\n",
    "print('Avg female police fatality age: {}'.format(avg_fatality_age_female))"
   ]
  },
  {
   "cell_type": "code",
   "execution_count": 10,
   "metadata": {},
   "outputs": [
    {
     "name": "stderr",
     "output_type": "stream",
     "text": [
      "/opt/anaconda3/lib/python3.7/site-packages/pandas/core/indexing.py:494: SettingWithCopyWarning: \n",
      "A value is trying to be set on a copy of a slice from a DataFrame.\n",
      "Try using .loc[row_indexer,col_indexer] = value instead\n",
      "\n",
      "See the caveats in the documentation: http://pandas.pydata.org/pandas-docs/stable/user_guide/indexing.html#returning-a-view-versus-a-copy\n",
      "  self.obj[item] = s\n"
     ]
    },
    {
     "data": {
      "text/plain": [
       "-0.08921942807030803"
      ]
     },
     "execution_count": 10,
     "metadata": {},
     "output_type": "execute_result"
    }
   ],
   "source": [
    "# Null Hypothesis: The distribution of police fatality ages for males in the U.S.\n",
    "# is the same as the distribution of police fatality ages for females in the U.S.\n",
    "# Any differences observed in the sample is due to random chance.\n",
    "\n",
    "# Alternate Hypothesis: Males killed by police in the U.S. are younger, on average,\n",
    "# than females killed by police in the U.S.\n",
    "\n",
    "# Test Statistic: avg age of males killed by police  - avg age of females killed by police\n",
    "\n",
    "# Simulate test statistic under null hypothesis by using \n",
    "# random permutations\n",
    "\n",
    "# Perform a random permutation on the data to simulate a value of the \n",
    "# test statistic under the null hypothesis\n",
    "def simulate_one_age_diff():\n",
    "    tbl = data_1[['Gender', 'Age']]\n",
    "    gender_col = data_1['Gender']\n",
    "    gender_col_permutation = gender_col.sample(frac = 1, replace = False).values\n",
    "    tbl.loc[:,'Gender'] = gender_col_permutation\n",
    "    \n",
    "    avg_age_for_gender = tbl.groupby(['Gender']).agg(np.mean)\n",
    "    avg_male_age = avg_age_for_gender['Age']['Male']\n",
    "    avg_female_age = avg_age_for_gender['Age']['Female']\n",
    "    \n",
    "    test_statistic = avg_male_age - avg_female_age\n",
    "    \n",
    "    return test_statistic\n",
    "    \n",
    "simulate_one_age_diff()"
   ]
  },
  {
   "cell_type": "code",
   "execution_count": 9,
   "metadata": {},
   "outputs": [
    {
     "name": "stdout",
     "output_type": "stream",
     "text": [
      "-2.515145706723395\n"
     ]
    }
   ],
   "source": [
    "# Observed test statistic\n",
    "obs_avg_age_diff = avg_fatality_age_male - avg_fatality_age_female\n",
    "print(obs_avg_age_diff)"
   ]
  },
  {
   "cell_type": "code",
   "execution_count": 11,
   "metadata": {},
   "outputs": [
    {
     "name": "stdout",
     "output_type": "stream",
     "text": [
      "CPU times: user 54.8 s, sys: 783 ms, total: 55.6 s\n",
      "Wall time: 1min\n"
     ]
    }
   ],
   "source": [
    "%%time\n",
    "\n",
    "# Generate 10,000 values of the test statistic\n",
    "num_simulations = 10000\n",
    "age_diffs = np.array([])\n",
    "\n",
    "for i in range(num_simulations):\n",
    "    age_diffs = np.append(age_diffs, simulate_one_age_diff())    \n"
   ]
  },
  {
   "cell_type": "code",
   "execution_count": 12,
   "metadata": {},
   "outputs": [
    {
     "data": {
      "text/plain": [
       "<matplotlib.legend.Legend at 0x7fa724076990>"
      ]
     },
     "execution_count": 12,
     "metadata": {},
     "output_type": "execute_result"
    },
    {
     "data": {
      "image/png": "[encoded data removed]",
      "text/plain": [
       "<Figure size 720x576 with 1 Axes>"
      ]
     },
     "metadata": {
      "needs_background": "light"
     },
     "output_type": "display_data"
    }
   ],
   "source": [
    "# Graph empirical distiribution of test statistic\n",
    "fig = plt.figure(figsize = (10,8))\n",
    "\n",
    "plt.title('Empirical Distribution of Test Statistic')\n",
    "plt.xlabel('Value of Test Statistic')\n",
    "plt.ylabel('Percent per unit')\n",
    "plt.hist(age_diffs, density = True, ec = 'w')\n",
    "plt.scatter([obs_avg_age_diff], [0], s = 100, c = 'r', label = 'Observed Test Statistic')\n",
    "\n",
    "plt.legend()"
   ]
  },
  {
   "cell_type": "code",
   "execution_count": 13,
   "metadata": {},
   "outputs": [
    {
     "name": "stdout",
     "output_type": "stream",
     "text": [
      "P-value: 0.0\n"
     ]
    }
   ],
   "source": [
    "# Highly statistically significant p-value. The data favors the alternate hypothesis \n",
    "# over the null. (Males killed by police in the U.S. are younger, on average, than\n",
    "# females killed by police in the U.S.)\n",
    "empirical_p_val = (age_diffs <= obs_avg_age_diff).mean()\n",
    "print('P-value: {}'.format(empirical_p_val))"
   ]
  },
  {
   "cell_type": "code",
   "execution_count": 14,
   "metadata": {
    "scrolled": false
   },
   "outputs": [
    {
     "data": {
      "text/html": [
       "<div>\n",
       "<style scoped>\n",
       "    .dataframe tbody tr th:only-of-type {\n",
       "        vertical-align: middle;\n",
       "    }\n",
       "\n",
       "    .dataframe tbody tr th {\n",
       "        vertical-align: top;\n",
       "    }\n",
       "\n",
       "    .dataframe thead th {\n",
       "        text-align: right;\n",
       "    }\n",
       "</style>\n",
       "<table border=\"1\" class=\"dataframe\">\n",
       "  <thead>\n",
       "    <tr style=\"text-align: right;\">\n",
       "      <th></th>\n",
       "      <th>Age</th>\n",
       "      <th>Mental_illness</th>\n",
       "      <th>Flee</th>\n",
       "      <th>Age_missing</th>\n",
       "      <th>Gender_missing</th>\n",
       "      <th>Race_missing</th>\n",
       "      <th>City_missing</th>\n",
       "      <th>State_missing</th>\n",
       "      <th>Manner_of_death_missing</th>\n",
       "      <th>Armed_missing</th>\n",
       "      <th>...</th>\n",
       "      <th>First_name_zachary</th>\n",
       "      <th>First_name_zaim</th>\n",
       "      <th>First_name_zak</th>\n",
       "      <th>First_name_zaki</th>\n",
       "      <th>First_name_zale</th>\n",
       "      <th>First_name_zamiel</th>\n",
       "      <th>First_name_zane</th>\n",
       "      <th>First_name_zeferino</th>\n",
       "      <th>First_name_zheng</th>\n",
       "      <th>First_name_zikarious</th>\n",
       "    </tr>\n",
       "  </thead>\n",
       "  <tbody>\n",
       "    <tr>\n",
       "      <td>0</td>\n",
       "      <td>44.0</td>\n",
       "      <td>False</td>\n",
       "      <td>False</td>\n",
       "      <td>False</td>\n",
       "      <td>False</td>\n",
       "      <td>False</td>\n",
       "      <td>False</td>\n",
       "      <td>False</td>\n",
       "      <td>False</td>\n",
       "      <td>True</td>\n",
       "      <td>...</td>\n",
       "      <td>0</td>\n",
       "      <td>0</td>\n",
       "      <td>0</td>\n",
       "      <td>0</td>\n",
       "      <td>0</td>\n",
       "      <td>0</td>\n",
       "      <td>0</td>\n",
       "      <td>0</td>\n",
       "      <td>0</td>\n",
       "      <td>0</td>\n",
       "    </tr>\n",
       "    <tr>\n",
       "      <td>1</td>\n",
       "      <td>26.0</td>\n",
       "      <td>False</td>\n",
       "      <td>False</td>\n",
       "      <td>False</td>\n",
       "      <td>False</td>\n",
       "      <td>False</td>\n",
       "      <td>False</td>\n",
       "      <td>False</td>\n",
       "      <td>False</td>\n",
       "      <td>True</td>\n",
       "      <td>...</td>\n",
       "      <td>0</td>\n",
       "      <td>0</td>\n",
       "      <td>0</td>\n",
       "      <td>0</td>\n",
       "      <td>0</td>\n",
       "      <td>0</td>\n",
       "      <td>0</td>\n",
       "      <td>0</td>\n",
       "      <td>0</td>\n",
       "      <td>0</td>\n",
       "    </tr>\n",
       "    <tr>\n",
       "      <td>2</td>\n",
       "      <td>36.0</td>\n",
       "      <td>False</td>\n",
       "      <td>False</td>\n",
       "      <td>False</td>\n",
       "      <td>False</td>\n",
       "      <td>False</td>\n",
       "      <td>False</td>\n",
       "      <td>False</td>\n",
       "      <td>False</td>\n",
       "      <td>False</td>\n",
       "      <td>...</td>\n",
       "      <td>0</td>\n",
       "      <td>0</td>\n",
       "      <td>0</td>\n",
       "      <td>0</td>\n",
       "      <td>0</td>\n",
       "      <td>0</td>\n",
       "      <td>0</td>\n",
       "      <td>0</td>\n",
       "      <td>0</td>\n",
       "      <td>0</td>\n",
       "    </tr>\n",
       "    <tr>\n",
       "      <td>3</td>\n",
       "      <td>29.0</td>\n",
       "      <td>False</td>\n",
       "      <td>False</td>\n",
       "      <td>False</td>\n",
       "      <td>False</td>\n",
       "      <td>False</td>\n",
       "      <td>False</td>\n",
       "      <td>False</td>\n",
       "      <td>False</td>\n",
       "      <td>False</td>\n",
       "      <td>...</td>\n",
       "      <td>0</td>\n",
       "      <td>0</td>\n",
       "      <td>0</td>\n",
       "      <td>0</td>\n",
       "      <td>0</td>\n",
       "      <td>0</td>\n",
       "      <td>0</td>\n",
       "      <td>0</td>\n",
       "      <td>0</td>\n",
       "      <td>0</td>\n",
       "    </tr>\n",
       "    <tr>\n",
       "      <td>4</td>\n",
       "      <td>25.0</td>\n",
       "      <td>False</td>\n",
       "      <td>False</td>\n",
       "      <td>False</td>\n",
       "      <td>False</td>\n",
       "      <td>False</td>\n",
       "      <td>False</td>\n",
       "      <td>False</td>\n",
       "      <td>False</td>\n",
       "      <td>False</td>\n",
       "      <td>...</td>\n",
       "      <td>0</td>\n",
       "      <td>0</td>\n",
       "      <td>0</td>\n",
       "      <td>0</td>\n",
       "      <td>0</td>\n",
       "      <td>0</td>\n",
       "      <td>0</td>\n",
       "      <td>0</td>\n",
       "      <td>0</td>\n",
       "      <td>0</td>\n",
       "    </tr>\n",
       "  </tbody>\n",
       "</table>\n",
       "<p>5 rows × 5904 columns</p>\n",
       "</div>"
      ],
      "text/plain": [
       "    Age  Mental_illness   Flee  Age_missing  Gender_missing  Race_missing  \\\n",
       "0  44.0           False  False        False           False         False   \n",
       "1  26.0           False  False        False           False         False   \n",
       "2  36.0           False  False        False           False         False   \n",
       "3  29.0           False  False        False           False         False   \n",
       "4  25.0           False  False        False           False         False   \n",
       "\n",
       "   City_missing  State_missing  Manner_of_death_missing  Armed_missing  ...  \\\n",
       "0         False          False                    False           True  ...   \n",
       "1         False          False                    False           True  ...   \n",
       "2         False          False                    False          False  ...   \n",
       "3         False          False                    False          False  ...   \n",
       "4         False          False                    False          False  ...   \n",
       "\n",
       "   First_name_zachary  First_name_zaim  First_name_zak  First_name_zaki  \\\n",
       "0                   0                0               0                0   \n",
       "1                   0                0               0                0   \n",
       "2                   0                0               0                0   \n",
       "3                   0                0               0                0   \n",
       "4                   0                0               0                0   \n",
       "\n",
       "   First_name_zale  First_name_zamiel  First_name_zane  First_name_zeferino  \\\n",
       "0                0                  0                0                    0   \n",
       "1                0                  0                0                    0   \n",
       "2                0                  0                0                    0   \n",
       "3                0                  0                0                    0   \n",
       "4                0                  0                0                    0   \n",
       "\n",
       "   First_name_zheng  First_name_zikarious  \n",
       "0                 0                     0  \n",
       "1                 0                     0  \n",
       "2                 0                     0  \n",
       "3                 0                     0  \n",
       "4                 0                     0  \n",
       "\n",
       "[5 rows x 5904 columns]"
      ]
     },
     "execution_count": 14,
     "metadata": {},
     "output_type": "execute_result"
    }
   ],
   "source": [
    "# Drop columns not needed for modeling and one-hot encode all\n",
    "# categorical data\n",
    "cols_to_drop = ['Name', 'Name_missing', 'Date',\n",
    "                'Date_missing',\n",
    "                ]\n",
    "\n",
    "X = data_1.drop(cols_to_drop, axis = 1)\n",
    "X = pd.get_dummies(X)\n",
    "y = data_1['Race']\n",
    "\n",
    "X.head()"
   ]
  },
  {
   "cell_type": "code",
   "execution_count": 15,
   "metadata": {},
   "outputs": [],
   "source": [
    "# Separate observations with the 'Race' feature missing from the observations\n",
    "# that have the 'Race' feature\n",
    "race_missing = X[X['Race_missing']]\n",
    "\n",
    "race_not_missing = X[~X['Race_missing']]\n",
    "race_not_missing_index = race_not_missing.index\n",
    "race_not_missing_y = y[race_not_missing_index]"
   ]
  },
  {
   "cell_type": "code",
   "execution_count": 58,
   "metadata": {
    "scrolled": false
   },
   "outputs": [
    {
     "name": "stderr",
     "output_type": "stream",
     "text": [
      "/opt/anaconda3/lib/python3.7/site-packages/sklearn/linear_model/logistic.py:469: FutureWarning: Default multi_class will be changed to 'auto' in 0.22. Specify the multi_class option to silence this warning.\n",
      "  \"this warning.\", FutureWarning)\n"
     ]
    },
    {
     "name": "stdout",
     "output_type": "stream",
     "text": [
      "CPU times: user 22min 47s, sys: 24.3 s, total: 23min 12s\n",
      "Wall time: 13min 15s\n"
     ]
    },
    {
     "data": {
      "text/plain": [
       "LogisticRegressionCV(Cs=[0.001, 0.01, 0.1, 1], class_weight=None, cv=5,\n",
       "                     dual=False, fit_intercept=True, intercept_scaling=1.0,\n",
       "                     l1_ratios=None, max_iter=1000, multi_class='warn',\n",
       "                     n_jobs=None, penalty='l2', random_state=None, refit=True,\n",
       "                     scoring=None, solver='lbfgs', tol=0.0001, verbose=0)"
      ]
     },
     "execution_count": 58,
     "metadata": {},
     "output_type": "execute_result"
    }
   ],
   "source": [
    "%%time\n",
    "\n",
    "from sklearn.linear_model import LogisticRegressionCV\n",
    "from sklearn.model_selection import train_test_split\n",
    "\n",
    "# Build logistic model to predict victim race\n",
    "X_train, X_test, y_train, y_test = train_test_split(race_not_missing, race_not_missing_y)\n",
    "Cs = [0.001, 0.01, 0.1, 1]\n",
    "model = LogisticRegressionCV(Cs = Cs, max_iter = 1000, cv = 5)\n",
    "model.fit(X_train, y_train)"
   ]
  },
  {
   "cell_type": "code",
   "execution_count": 61,
   "metadata": {
    "scrolled": false
   },
   "outputs": [
    {
     "name": "stdout",
     "output_type": "stream",
     "text": [
      "Logistic Model Training Accuracy: 0.8273381294964028\n",
      "Logistic Model Test Accuracy: 0.7106003752345216\n"
     ]
    },
    {
     "name": "stderr",
     "output_type": "stream",
     "text": [
      "/opt/anaconda3/lib/python3.7/site-packages/pandas/core/indexing.py:1418: FutureWarning: \n",
      "Passing list-likes to .loc or [] with any missing label will raise\n",
      "KeyError in the future, you can use .reindex() as an alternative.\n",
      "\n",
      "See the documentation here:\n",
      "https://pandas.pydata.org/pandas-docs/stable/user_guide/indexing.html#deprecate-loc-reindex-listlike\n",
      "  return self._getitem_tuple(key)\n"
     ]
    },
    {
     "data": {
      "text/html": [
       "<div>\n",
       "<style scoped>\n",
       "    .dataframe tbody tr th:only-of-type {\n",
       "        vertical-align: middle;\n",
       "    }\n",
       "\n",
       "    .dataframe tbody tr th {\n",
       "        vertical-align: top;\n",
       "    }\n",
       "\n",
       "    .dataframe thead th {\n",
       "        text-align: right;\n",
       "    }\n",
       "</style>\n",
       "<table border=\"1\" class=\"dataframe\">\n",
       "  <thead>\n",
       "    <tr style=\"text-align: right;\">\n",
       "      <th>Predicted</th>\n",
       "      <th>Asian</th>\n",
       "      <th>Black</th>\n",
       "      <th>Hispanic</th>\n",
       "      <th>Other</th>\n",
       "      <th>Native</th>\n",
       "      <th>White</th>\n",
       "    </tr>\n",
       "    <tr>\n",
       "      <th>Actual</th>\n",
       "      <th></th>\n",
       "      <th></th>\n",
       "      <th></th>\n",
       "      <th></th>\n",
       "      <th></th>\n",
       "      <th></th>\n",
       "    </tr>\n",
       "  </thead>\n",
       "  <tbody>\n",
       "    <tr>\n",
       "      <td>Asian</td>\n",
       "      <td>0.0</td>\n",
       "      <td>8.0</td>\n",
       "      <td>10.0</td>\n",
       "      <td>0.0</td>\n",
       "      <td>0.0</td>\n",
       "      <td>25.0</td>\n",
       "    </tr>\n",
       "    <tr>\n",
       "      <td>Black</td>\n",
       "      <td>0.0</td>\n",
       "      <td>414.0</td>\n",
       "      <td>39.0</td>\n",
       "      <td>0.0</td>\n",
       "      <td>0.0</td>\n",
       "      <td>184.0</td>\n",
       "    </tr>\n",
       "    <tr>\n",
       "      <td>Hispanic</td>\n",
       "      <td>0.0</td>\n",
       "      <td>45.0</td>\n",
       "      <td>306.0</td>\n",
       "      <td>0.0</td>\n",
       "      <td>0.0</td>\n",
       "      <td>104.0</td>\n",
       "    </tr>\n",
       "    <tr>\n",
       "      <td>Other</td>\n",
       "      <td>0.0</td>\n",
       "      <td>5.0</td>\n",
       "      <td>7.0</td>\n",
       "      <td>0.0</td>\n",
       "      <td>0.0</td>\n",
       "      <td>6.0</td>\n",
       "    </tr>\n",
       "    <tr>\n",
       "      <td>Native</td>\n",
       "      <td>0.0</td>\n",
       "      <td>0.0</td>\n",
       "      <td>6.0</td>\n",
       "      <td>0.0</td>\n",
       "      <td>3.0</td>\n",
       "      <td>22.0</td>\n",
       "    </tr>\n",
       "    <tr>\n",
       "      <td>White</td>\n",
       "      <td>0.0</td>\n",
       "      <td>102.0</td>\n",
       "      <td>53.0</td>\n",
       "      <td>0.0</td>\n",
       "      <td>1.0</td>\n",
       "      <td>792.0</td>\n",
       "    </tr>\n",
       "  </tbody>\n",
       "</table>\n",
       "</div>"
      ],
      "text/plain": [
       "Predicted  Asian  Black  Hispanic  Other  Native  White\n",
       "Actual                                                 \n",
       "Asian        0.0    8.0      10.0    0.0     0.0   25.0\n",
       "Black        0.0  414.0      39.0    0.0     0.0  184.0\n",
       "Hispanic     0.0   45.0     306.0    0.0     0.0  104.0\n",
       "Other        0.0    5.0       7.0    0.0     0.0    6.0\n",
       "Native       0.0    0.0       6.0    0.0     3.0   22.0\n",
       "White        0.0  102.0      53.0    0.0     1.0  792.0"
      ]
     },
     "execution_count": 61,
     "metadata": {},
     "output_type": "execute_result"
    }
   ],
   "source": [
    "from sklearn.metrics import confusion_matrix\n",
    "from sklearn.metrics import accuracy_score\n",
    "\n",
    "# Training Accuracy\n",
    "preds_train_logistic = model.predict(X_train)\n",
    "train_acc_logistic = accuracy_score(y_train, preds_train_logistic)\n",
    "\n",
    "# Test Accuracy\n",
    "preds_test_logistic = model.predict(X_test)\n",
    "test_acc_logistic = accuracy_score(y_test, preds_test_logistic)\n",
    "\n",
    "print('Logistic Model Training Accuracy: {}'.format(train_acc_logistic))\n",
    "print('Logistic Model Test Accuracy: {}'.format(test_acc_logistic))\n",
    "\n",
    "# Confusion matrix for test data\n",
    "df = pd.DataFrame({'Predicted':preds_test_logistic, 'Actual':y_test})\n",
    "confusion_matrix = df.pivot_table(index = 'Actual', columns = 'Predicted', aggfunc = len).fillna(0)\n",
    "\n",
    "# Show confusion matrix\n",
    "keys = data_1['Race'].unique()\n",
    "confusion_matrix = confusion_matrix.loc[keys, keys].fillna(0)\n",
    "confusion_matrix"
   ]
  },
  {
   "cell_type": "code",
   "execution_count": 66,
   "metadata": {},
   "outputs": [
    {
     "data": {
      "text/plain": [
       "<matplotlib.axes._subplots.AxesSubplot at 0x7fa6965497d0>"
      ]
     },
     "execution_count": 66,
     "metadata": {},
     "output_type": "execute_result"
    },
    {
     "data": {
      "image/png": "[encoded data removed]",
      "text/plain": [
       "<Figure size 720x576 with 1 Axes>"
      ]
     },
     "metadata": {
      "needs_background": "light"
     },
     "output_type": "display_data"
    }
   ],
   "source": [
    "# Predictions for the race of observations with the 'Race' feature missing\n",
    "preds_missing_race = model.predict(race_missing.drop(['Race'], axis = 1))\n",
    "preds_missing_race = pd.Series(preds_missing_race)\n",
    "\n",
    "# Plot distribution of model's predictions for observations with a missing 'Race' feature\n",
    "plt.figure(figsize = (10,8))\n",
    "plt.title('Approximate Distribution of Victim Race for Observations w/ Missing \"Race\" feature')\n",
    "preds_missing_race.value_counts().sort_values().plot.barh()"
   ]
  },
  {
   "cell_type": "code",
   "execution_count": 120,
   "metadata": {
    "scrolled": false
   },
   "outputs": [
    {
     "name": "stderr",
     "output_type": "stream",
     "text": [
      "/opt/anaconda3/lib/python3.7/site-packages/ipykernel_launcher.py:5: SettingWithCopyWarning: \n",
      "A value is trying to be set on a copy of a slice from a DataFrame.\n",
      "Try using .loc[row_indexer,col_indexer] = value instead\n",
      "\n",
      "See the caveats in the documentation: http://pandas.pydata.org/pandas-docs/stable/user_guide/indexing.html#returning-a-view-versus-a-copy\n",
      "  \"\"\"\n",
      "/opt/anaconda3/lib/python3.7/site-packages/ipykernel_launcher.py:6: SettingWithCopyWarning: \n",
      "A value is trying to be set on a copy of a slice from a DataFrame.\n",
      "Try using .loc[row_indexer,col_indexer] = value instead\n",
      "\n",
      "See the caveats in the documentation: http://pandas.pydata.org/pandas-docs/stable/user_guide/indexing.html#returning-a-view-versus-a-copy\n",
      "  \n"
     ]
    },
    {
     "data": {
      "text/plain": [
       "<matplotlib.axes._subplots.AxesSubplot at 0x7fa6be5b2f90>"
      ]
     },
     "execution_count": 120,
     "metadata": {},
     "output_type": "execute_result"
    },
    {
     "data": {
      "image/png": "[encoded data removed]",
      "text/plain": [
       "<Figure size 720x576 with 1 Axes>"
      ]
     },
     "metadata": {
      "needs_background": "light"
     },
     "output_type": "display_data"
    }
   ],
   "source": [
    "# Use the model's predictions for victim race on observations with null in the 'Race' column\n",
    "# as an approximation to the actual values, since model's test accuracy is > 70%.\n",
    "# Then plot approximate distribution of victim race.\n",
    "\n",
    "race_missing['Race'] = preds_missing_race.values\n",
    "race_not_missing['Race'] = data_1[~data_1['Race_missing']]['Race'].values\n",
    "approx_race_dist = pd.concat([race_missing, race_not_missing])['Race']\n",
    "\n",
    "plt.figure(figsize = (10,8))\n",
    "plt.title('Appriximate Distribution of Victim Race')\n",
    "plt.xlabel('Number Killed by Police')\n",
    "plt.ylabel('Victim Race')\n",
    "\n",
    "approx_race_dist.value_counts().sort_values().plot.barh()"
   ]
  },
  {
   "cell_type": "code",
   "execution_count": 119,
   "metadata": {
    "scrolled": false
   },
   "outputs": [
    {
     "data": {
      "text/plain": [
       "<matplotlib.axes._subplots.AxesSubplot at 0x7fa6be54e550>"
      ]
     },
     "execution_count": 119,
     "metadata": {},
     "output_type": "execute_result"
    },
    {
     "data": {
      "image/png": "[encoded data removed]",
      "text/plain": [
       "<Figure size 720x576 with 1 Axes>"
      ]
     },
     "metadata": {
      "needs_background": "light"
     },
     "output_type": "display_data"
    }
   ],
   "source": [
    "temp = approx_race_dist.value_counts()\n",
    "temp /= len(approx_race_dist)\n",
    "\n",
    "num_rows = len(temp)\n",
    "approx_us_race_dist = {'White':.601, 'Black':.134,\n",
    "                 'Native':.013, 'Asian':.059,\n",
    "                 'Hispanic': .185, 'Other':.002}\n",
    "for i in temp.index:\n",
    "    temp[i] /= approx_us_race_dist[i]\n",
    "  \n",
    "# Ratio of race proportion in dataset and race proportion in U.S. (approximation)\n",
    "plt.figure(figsize = (10,8))\n",
    "plt.title('Approximate Ratio of (Victim Race Pct. in Dataset) / (Victim Race Pct. in U.S. Population)')\n",
    "plt.xlabel('Ratio')\n",
    "plt.ylabel('Race')\n",
    "temp.sort_values().plot.barh()"
   ]
  },
  {
   "cell_type": "code",
   "execution_count": 110,
   "metadata": {},
   "outputs": [],
   "source": [
    "from sklearn.preprocessing import OneHotEncoder\n",
    "\n",
    "# One-hot encode respone class for neural network\n",
    "ohe = OneHotEncoder()\n",
    "ohe.fit(data_1['Race'].values.reshape(-1,1))\n",
    "y_train_nn = ohe.transform(y_train.values.reshape(-1,1))\n",
    "y_test_nn = ohe.transform(y_test.values.reshape(-1,1))"
   ]
  },
  {
   "cell_type": "code",
   "execution_count": 111,
   "metadata": {
    "scrolled": true
   },
   "outputs": [
    {
     "name": "stdout",
     "output_type": "stream",
     "text": [
      "Epoch 1/25\n",
      "6394/6394 [==============================] - 9s 1ms/step - loss: 1.5617 - accuracy: 0.3520\n",
      "Epoch 2/25\n",
      "6394/6394 [==============================] - 9s 1ms/step - loss: 1.3372 - accuracy: 0.4356\n",
      "Epoch 3/25\n",
      "6394/6394 [==============================] - 12s 2ms/step - loss: 1.2332 - accuracy: 0.4876\n",
      "Epoch 4/25\n",
      "6394/6394 [==============================] - 11s 2ms/step - loss: 1.1124 - accuracy: 0.5527\n",
      "Epoch 5/25\n",
      "6394/6394 [==============================] - 11s 2ms/step - loss: 0.9921 - accuracy: 0.6254\n",
      "Epoch 6/25\n",
      "6394/6394 [==============================] - 12s 2ms/step - loss: 0.9008 - accuracy: 0.6786\n",
      "Epoch 7/25\n",
      "6394/6394 [==============================] - 11s 2ms/step - loss: 0.7806 - accuracy: 0.7271\n",
      "Epoch 8/25\n",
      "6394/6394 [==============================] - 10s 2ms/step - loss: 0.6867 - accuracy: 0.7734\n",
      "Epoch 9/25\n",
      "6394/6394 [==============================] - 10s 2ms/step - loss: 0.6208 - accuracy: 0.7937\n",
      "Epoch 10/25\n",
      "6394/6394 [==============================] - 9s 1ms/step - loss: 0.5522 - accuracy: 0.8136\n",
      "Epoch 11/25\n",
      "6394/6394 [==============================] - 10s 2ms/step - loss: 0.5043 - accuracy: 0.8363\n",
      "Epoch 12/25\n",
      "6394/6394 [==============================] - 10s 2ms/step - loss: 0.5004 - accuracy: 0.8294\n",
      "Epoch 13/25\n",
      "6394/6394 [==============================] - 10s 2ms/step - loss: 0.4579 - accuracy: 0.8500\n",
      "Epoch 14/25\n",
      "6394/6394 [==============================] - 10s 2ms/step - loss: 0.4285 - accuracy: 0.8556\n",
      "Epoch 15/25\n",
      "6394/6394 [==============================] - 11s 2ms/step - loss: 0.3986 - accuracy: 0.8613\n",
      "Epoch 16/25\n",
      "6394/6394 [==============================] - 10s 2ms/step - loss: 0.3797 - accuracy: 0.8668\n",
      "Epoch 17/25\n",
      "6394/6394 [==============================] - 9s 1ms/step - loss: 0.3668 - accuracy: 0.8744\n",
      "Epoch 18/25\n",
      "6394/6394 [==============================] - 10s 2ms/step - loss: 0.3463 - accuracy: 0.8821\n",
      "Epoch 19/25\n",
      "6394/6394 [==============================] - 10s 2ms/step - loss: 0.3276 - accuracy: 0.8791\n",
      "Epoch 20/25\n",
      "6394/6394 [==============================] - 10s 2ms/step - loss: 0.2986 - accuracy: 0.8888\n",
      "Epoch 21/25\n",
      "6394/6394 [==============================] - 9s 1ms/step - loss: 0.3116 - accuracy: 0.8825\n",
      "Epoch 22/25\n",
      "6394/6394 [==============================] - 11s 2ms/step - loss: 0.2878 - accuracy: 0.8927\n",
      "Epoch 23/25\n",
      "6394/6394 [==============================] - 11s 2ms/step - loss: 0.2665 - accuracy: 0.9015\n",
      "Epoch 24/25\n",
      "6394/6394 [==============================] - 12s 2ms/step - loss: 0.2526 - accuracy: 0.9040\n",
      "Epoch 25/25\n",
      "6394/6394 [==============================] - 10s 1ms/step - loss: 0.2487 - accuracy: 0.9069\n",
      "CPU times: user 5min 30s, sys: 52.3 s, total: 6min 22s\n",
      "Wall time: 4min 19s\n"
     ]
    },
    {
     "data": {
      "text/plain": [
       "<keras.callbacks.callbacks.History at 0x7fa6bd523950>"
      ]
     },
     "execution_count": 111,
     "metadata": {},
     "output_type": "execute_result"
    }
   ],
   "source": [
    "%%time \n",
    "\n",
    "from keras.models import Sequential\n",
    "from keras.layers import Dense\n",
    "from keras.layers import Dropout\n",
    "\n",
    "# Construct an ANN with one 3 hidden layers with 1000 x 100 x 50 neurons\n",
    "model = Sequential()\n",
    "model.add(Dense(1000, input_shape = (5904,), activation = 'relu'))\n",
    "model.add(Dense(100, activation = 'relu'))\n",
    "model.add(Dropout(0.5))\n",
    "model.add(Dense(50, activation = 'relu'))\n",
    "model.add(Dropout(0.5))\n",
    "\n",
    "model.add(Dense(6, activation = 'softmax'))\n",
    "\n",
    "model.compile(optimizer = 'adam', metrics = ['accuracy'], loss = 'categorical_crossentropy')\n",
    "\n",
    "model.fit(X_train, y_train_nn, epochs = 25, batch_size = 248)"
   ]
  },
  {
   "cell_type": "code",
   "execution_count": 30,
   "metadata": {},
   "outputs": [],
   "source": [
    "from keras.backend import clear_session\n",
    "clear_session()"
   ]
  },
  {
   "cell_type": "code",
   "execution_count": 114,
   "metadata": {},
   "outputs": [
    {
     "name": "stdout",
     "output_type": "stream",
     "text": [
      "2132/2132 [==============================] - 2s 1ms/step\n",
      "Neural Network Test Accuracy: 0.7096623182296753\n"
     ]
    }
   ],
   "source": [
    "# Neural Network Test Accuracy\n",
    "_, acc = model.evaluate(X_test, y_test_nn)\n",
    "print('Neural Network Test Accuracy: {}'.format(acc))"
   ]
  },
  {
   "cell_type": "code",
   "execution_count": 115,
   "metadata": {},
   "outputs": [
    {
     "data": {
      "text/html": [
       "<div>\n",
       "<style scoped>\n",
       "    .dataframe tbody tr th:only-of-type {\n",
       "        vertical-align: middle;\n",
       "    }\n",
       "\n",
       "    .dataframe tbody tr th {\n",
       "        vertical-align: top;\n",
       "    }\n",
       "\n",
       "    .dataframe thead th {\n",
       "        text-align: right;\n",
       "    }\n",
       "</style>\n",
       "<table border=\"1\" class=\"dataframe\">\n",
       "  <thead>\n",
       "    <tr style=\"text-align: right;\">\n",
       "      <th></th>\n",
       "      <th>Race</th>\n",
       "      <th>Name_missing</th>\n",
       "      <th>Age_missing</th>\n",
       "      <th>Gender_missing</th>\n",
       "      <th>Race_missing</th>\n",
       "      <th>Date_missing</th>\n",
       "      <th>City_missing</th>\n",
       "      <th>State_missing</th>\n",
       "      <th>Manner_of_death_missing</th>\n",
       "      <th>Armed_missing</th>\n",
       "      <th>Mental_illness_missing</th>\n",
       "      <th>Flee_missing</th>\n",
       "      <th>Num_features_missing</th>\n",
       "    </tr>\n",
       "  </thead>\n",
       "  <tbody>\n",
       "    <tr>\n",
       "      <td>0</td>\n",
       "      <td>Asian</td>\n",
       "      <td>False</td>\n",
       "      <td>False</td>\n",
       "      <td>False</td>\n",
       "      <td>False</td>\n",
       "      <td>False</td>\n",
       "      <td>False</td>\n",
       "      <td>False</td>\n",
       "      <td>False</td>\n",
       "      <td>True</td>\n",
       "      <td>False</td>\n",
       "      <td>False</td>\n",
       "      <td>1.0</td>\n",
       "    </tr>\n",
       "    <tr>\n",
       "      <td>1</td>\n",
       "      <td>Asian</td>\n",
       "      <td>False</td>\n",
       "      <td>False</td>\n",
       "      <td>False</td>\n",
       "      <td>False</td>\n",
       "      <td>False</td>\n",
       "      <td>False</td>\n",
       "      <td>False</td>\n",
       "      <td>False</td>\n",
       "      <td>True</td>\n",
       "      <td>False</td>\n",
       "      <td>False</td>\n",
       "      <td>1.0</td>\n",
       "    </tr>\n",
       "    <tr>\n",
       "      <td>2</td>\n",
       "      <td>Asian</td>\n",
       "      <td>False</td>\n",
       "      <td>False</td>\n",
       "      <td>False</td>\n",
       "      <td>False</td>\n",
       "      <td>False</td>\n",
       "      <td>False</td>\n",
       "      <td>False</td>\n",
       "      <td>False</td>\n",
       "      <td>False</td>\n",
       "      <td>False</td>\n",
       "      <td>False</td>\n",
       "      <td>0.0</td>\n",
       "    </tr>\n",
       "    <tr>\n",
       "      <td>3</td>\n",
       "      <td>Asian</td>\n",
       "      <td>False</td>\n",
       "      <td>False</td>\n",
       "      <td>False</td>\n",
       "      <td>False</td>\n",
       "      <td>False</td>\n",
       "      <td>False</td>\n",
       "      <td>False</td>\n",
       "      <td>False</td>\n",
       "      <td>False</td>\n",
       "      <td>False</td>\n",
       "      <td>False</td>\n",
       "      <td>0.0</td>\n",
       "    </tr>\n",
       "    <tr>\n",
       "      <td>4</td>\n",
       "      <td>Asian</td>\n",
       "      <td>False</td>\n",
       "      <td>False</td>\n",
       "      <td>False</td>\n",
       "      <td>False</td>\n",
       "      <td>False</td>\n",
       "      <td>False</td>\n",
       "      <td>False</td>\n",
       "      <td>False</td>\n",
       "      <td>False</td>\n",
       "      <td>False</td>\n",
       "      <td>False</td>\n",
       "      <td>0.0</td>\n",
       "    </tr>\n",
       "  </tbody>\n",
       "</table>\n",
       "</div>"
      ],
      "text/plain": [
       "    Race  Name_missing  Age_missing  Gender_missing  Race_missing  \\\n",
       "0  Asian         False        False           False         False   \n",
       "1  Asian         False        False           False         False   \n",
       "2  Asian         False        False           False         False   \n",
       "3  Asian         False        False           False         False   \n",
       "4  Asian         False        False           False         False   \n",
       "\n",
       "   Date_missing  City_missing  State_missing  Manner_of_death_missing  \\\n",
       "0         False         False          False                    False   \n",
       "1         False         False          False                    False   \n",
       "2         False         False          False                    False   \n",
       "3         False         False          False                    False   \n",
       "4         False         False          False                    False   \n",
       "\n",
       "   Armed_missing  Mental_illness_missing  Flee_missing  Num_features_missing  \n",
       "0           True                   False         False                   1.0  \n",
       "1           True                   False         False                   1.0  \n",
       "2          False                   False         False                   0.0  \n",
       "3          False                   False         False                   0.0  \n",
       "4          False                   False         False                   0.0  "
      ]
     },
     "execution_count": 115,
     "metadata": {},
     "output_type": "execute_result"
    }
   ],
   "source": [
    "# Creating new feature 'Num_features_missing' which counts the number\n",
    "# of NaN or null values for a particular observation (row)\n",
    "num_features_missing = np.array([])\n",
    "\n",
    "missing_col_names = ['Race'] + [col for col in data_1.columns if '_missing' in col]\n",
    "missing_cols = data_1[missing_col_names]\n",
    "\n",
    "for i in range(len(data_1)):\n",
    "    row = missing_cols.iloc[i].values[1:]\n",
    "    num_missing = np.count_nonzero(row)\n",
    "    num_features_missing = np.append(num_features_missing, num_missing)\n",
    "    \n",
    "missing_cols = missing_cols[~missing_cols['Race_missing']]\n",
    "missing_cols_indices = missing_cols.index\n",
    "\n",
    "missing_cols['Num_features_missing'] = num_features_missing[missing_cols_indices]\n",
    "missing_cols.head()"
   ]
  },
  {
   "cell_type": "code",
   "execution_count": 117,
   "metadata": {},
   "outputs": [
    {
     "data": {
      "image/png": "[encoded data removed]",
      "text/plain": [
       "<Figure size 1296x576 with 3 Axes>"
      ]
     },
     "metadata": {
      "needs_background": "light"
     },
     "output_type": "display_data"
    }
   ],
   "source": [
    "plt.subplots(nrows = 1, ncols = 3, figsize = (18, 8))\n",
    "\n",
    "# get Black and White observations\n",
    "blacks = missing_cols[missing_cols['Race'] == 'Black']\n",
    "whites = missing_cols[missing_cols['Race'] == 'White']\n",
    "\n",
    "# Distribution of number features missing for entire sample\n",
    "plt.subplot(131)\n",
    "plt.title('Distribution of Number of Features Missing')\n",
    "plt.xlabel('Number of Features Missing')\n",
    "plt.ylabel('Percent per unit')\n",
    "plt.hist(missing_cols['Num_features_missing'], ec = 'w', density = True)\n",
    "\n",
    "# Distribution of number features missing for Black observations\n",
    "plt.subplot(132)\n",
    "plt.title('Distribution of Number of Features Missing (Blacks)')\n",
    "plt.xlabel('Number of Features Missing')\n",
    "plt.ylabel('Percent per unit')\n",
    "plt.hist(blacks['Num_features_missing'], ec = 'w', density = True)\n",
    "\n",
    "# Distribution of number features missing for White observations\n",
    "plt.subplot(133)\n",
    "plt.title('Distribution of Number of Features Missing (Whites)')\n",
    "plt.xlabel('Number of Features Missing')\n",
    "plt.ylabel('Percent per unit')\n",
    "plt.hist(whites['Num_features_missing'], ec = 'w', density = True);"
   ]
  },
  {
   "cell_type": "code",
   "execution_count": 121,
   "metadata": {},
   "outputs": [
    {
     "name": "stdout",
     "output_type": "stream",
     "text": [
      "Avg Number of Features Missing from black observations: 0.4554416403785489\n",
      "Avg Number of Features Missing from white observations: 0.4119325551232166\n"
     ]
    }
   ],
   "source": [
    "print('Avg Number of Features Missing from black observations: {}'.format(blacks['Num_features_missing'].mean()))\n",
    "print('Avg Number of Features Missing from white observations: {}'.format(whites['Num_features_missing'].mean()))"
   ]
  },
  {
   "cell_type": "code",
   "execution_count": 45,
   "metadata": {},
   "outputs": [
    {
     "data": {
      "text/plain": [
       "0.010750101265512069"
      ]
     },
     "execution_count": 45,
     "metadata": {},
     "output_type": "execute_result"
    }
   ],
   "source": [
    "# Null Hypothesis: The distribution of missing values for black observations is\n",
    "# the same as the distribution of missing values for white observations.\n",
    "# any differences observed in the sample is due to random chance\n",
    "\n",
    "# Alternate Hypothesis: There are more missing values for black observations, on average,\n",
    "# than white observations\n",
    "\n",
    "# Test Statistic: avg # of missing values for whites - avg # of missing values for blacks\n",
    "\n",
    "# Simulate test statistic under null hypothesis by using \n",
    "# random permutations\n",
    "def simulate_one_missing_vals_diff():\n",
    "    cols = missing_cols[['Race', 'Num_features_missing']]\n",
    "    \n",
    "    black_pred = cols['Race'] == 'Black'\n",
    "    white_pred = cols['Race'] == 'White'\n",
    "    \n",
    "    cols = cols[(black_pred) | (white_pred)]\n",
    "    permuted_race = cols['Race'].sample(frac = 1, replace = False).values\n",
    "    cols['Race'] = permuted_race\n",
    "    \n",
    "    grouped = cols.groupby(['Race']).agg(np.mean)\n",
    "    \n",
    "    avg_missing_black = grouped['Num_features_missing']['Black']\n",
    "    avg_missing_non_black = grouped['Num_features_missing']['White']\n",
    "    \n",
    "    return avg_missing_non_black - avg_missing_black\n",
    "\n",
    "simulate_one_missing_vals_diff()"
   ]
  },
  {
   "cell_type": "code",
   "execution_count": 44,
   "metadata": {},
   "outputs": [
    {
     "data": {
      "text/plain": [
       "-0.043509085255332314"
      ]
     },
     "execution_count": 44,
     "metadata": {},
     "output_type": "execute_result"
    }
   ],
   "source": [
    "# Observed test statistic\n",
    "observed_avg_missing_diff = whites['Num_features_missing'].mean() - blacks['Num_features_missing'].mean()\n",
    "observed_avg_missing_diff"
   ]
  },
  {
   "cell_type": "code",
   "execution_count": 46,
   "metadata": {},
   "outputs": [
    {
     "name": "stdout",
     "output_type": "stream",
     "text": [
      "CPU times: user 1min 12s, sys: 708 ms, total: 1min 13s\n",
      "Wall time: 1min 17s\n"
     ]
    }
   ],
   "source": [
    "%%time\n",
    "\n",
    "# Generate 10,000 values of the test statistic \n",
    "# under the null hypothesis\n",
    "avg_missing_diffs = np.array([])\n",
    "num_simulations = 10000\n",
    "\n",
    "for i in range(num_simulations):\n",
    "    avg_missing_diffs = np.append(avg_missing_diffs, simulate_one_missing_vals_diff())\n",
    "    "
   ]
  },
  {
   "cell_type": "code",
   "execution_count": 47,
   "metadata": {},
   "outputs": [
    {
     "data": {
      "text/plain": [
       "<matplotlib.legend.Legend at 0x7fa68d64c810>"
      ]
     },
     "execution_count": 47,
     "metadata": {},
     "output_type": "execute_result"
    },
    {
     "data": {
      "image/png": "[encoded data removed]",
      "text/plain": [
       "<Figure size 720x576 with 1 Axes>"
      ]
     },
     "metadata": {
      "needs_background": "light"
     },
     "output_type": "display_data"
    }
   ],
   "source": [
    "# Graph empirical distribution of test statistic\n",
    "plt.figure(figsize = (10, 8))\n",
    "plt.title('Empirical Distribution of Test Statistic')\n",
    "plt.xlabel('Test Statistic')\n",
    "plt.ylabel('Percent per unit')\n",
    "\n",
    "plt.hist(avg_missing_diffs, density = True, ec = 'w')\n",
    "plt.scatter([observed_avg_missing_diff], [0], s = 100, label = 'Observed Test Statistic', c = 'r');\n",
    "plt.legend()"
   ]
  },
  {
   "cell_type": "code",
   "execution_count": 48,
   "metadata": {},
   "outputs": [
    {
     "name": "stdout",
     "output_type": "stream",
     "text": [
      "P-value: 0.0003\n"
     ]
    }
   ],
   "source": [
    "# Highly statistically significant p-value.  The data favors the alternative \n",
    "# hypothesis over the null. (There are more missing values for black observatons, on average,\n",
    "# than white observations)\n",
    "empirical_p_val_2 = (avg_missing_diffs <= observed_avg_missing_diff).mean()\n",
    "print('P-value: {}'.format(empirical_p_val_2))"
   ]
  }
 ],
 "metadata": {
  "kernelspec": {
   "display_name": "Python 3",
   "language": "python",
   "name": "python3"
  },
  "language_info": {
   "codemirror_mode": {
    "name": "ipython",
    "version": 3
   },
   "file_extension": ".py",
   "mimetype": "text/x-python",
   "name": "python",
   "nbconvert_exporter": "python",
   "pygments_lexer": "ipython3",
   "version": "3.7.4"
  }
 },
 "nbformat": 4,
 "nbformat_minor": 2
}
